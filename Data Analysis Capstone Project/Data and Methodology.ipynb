{
 "cells": [
  {
   "cell_type": "markdown",
   "metadata": {},
   "source": [
    "#                    Introduction To Capstone Project - Overview"
   ]
  },
  {
   "cell_type": "markdown",
   "metadata": {},
   "source": [
    "### Scenario"
   ]
  },
  {
   "cell_type": "markdown",
   "metadata": {},
   "source": [
    "You have recently been hired as a Data Analyst by a global IT and business consulting services firm that is known for their expertise in IT solutions and their team of highly experienced IT consultants.  In order to keep pace with changing technologies and remain competitive, your organization regularly analyzes data to help identify future skill requirements. \n",
    "\n",
    "As a Data Analyst, you will be assisting with this initiative and have been tasked with collecting data from various sources and identifying trends for this year's report on emerging skills. \n",
    "\n"
   ]
  },
  {
   "cell_type": "markdown",
   "metadata": {},
   "source": [
    "Your first task is to collect the top programming skills that are most in demand from various sources including:\n",
    "\n",
    "* Job postings\n",
    "* Training portals\n",
    "* Surveys"
   ]
  },
  {
   "cell_type": "markdown",
   "metadata": {},
   "source": [
    "Once you have collected enough data, you will begin analyzing the data and identify insights and trends that may include the following:\n",
    "* What are the top programming languages in demand?\n",
    "* What are the top database skills in demand?\n",
    "* What are the popular IDEs?"
   ]
  },
  {
   "cell_type": "markdown",
   "metadata": {},
   "source": [
    "You will begin by scraping internet web sites and accessing APIs to collect data in various formats like .csv files, excel sheets, and databases. Once this is completed, you will make that data ready for analysis using data wrangling techniques. \n",
    " \n",
    "When the data is ready you will then want to apply statistical techniques to analyze the data.  Then bring all of your information together by using  IBM Cognos Analytics to create your dashboard. And finally, show off your storytelling skills by sharing your findings in a presentation."
   ]
  },
  {
   "cell_type": "markdown",
   "metadata": {},
   "source": [
    "## Collecting Data Using APIs"
   ]
  },
  {
   "cell_type": "markdown",
   "metadata": {},
   "source": [
    "### How to Get Data\n",
    "In the coming future data will increasingly be shared using Application Programming Interfaces (APIs).\n",
    "An API is hosted on the public internet or a private network. APIs provide anytime access to the latest data.\n",
    "\n",
    "Your assignment is to get the number of job openings using the GitHub Jobs API for technologies like:\n",
    "* Java\n",
    "* Python\n",
    "* MySQL\n",
    "* C++\n",
    "* C#"
   ]
  },
  {
   "cell_type": "markdown",
   "metadata": {},
   "source": [
    "GitHub Jobs API allows anyone to query for the jobs based upon:\n",
    "\n",
    "Technology like Python, MySQL\n",
    "City like New York, Bangalore\n",
    "Here are the technical details to access the API.\n",
    "\n",
    "The GitHub Jobs API allows you to search, and view jobs with JSON over HTTP.\n",
    "\n",
    "To get the JSON representation of any search result or job listing, append .json to the URL you'd use on the HTML GitHub Jobs site.\n",
    "\n",
    "For example, below url will search for Python jobs near New York:\n",
    "\n",
    "https://jobs.github.com/positions?description=python&location=new+york\n",
    "\n",
    "To get the JSON representation of those jobs, just use positions.json:\n",
    "\n",
    "https://jobs.github.com/positions.json?description=python&location=new+york\n",
    "\n"
   ]
  },
  {
   "cell_type": "markdown",
   "metadata": {},
   "source": [
    "Pagination\n",
    "The API also supports pagination. /positions.json, for example, will only return 50 positions at a time. You can paginate results by adding a page parameter to your queries.\n",
    "\n",
    "Pagination starts by default at 0.\n",
    "\n",
    "Examples\n",
    "https://jobs.github.com/positions.json?description=ruby&page=1\n",
    "https://jobs.github.com/positions.json?page=1&search=code\n",
    "\n",
    "GET /positions.json\n",
    "Search for jobs by term, location, full time vs part time, or any combination of the three. All parameters are optional.\n",
    "\n",
    "Parameters\n",
    "description — A search term, such as \"ruby\" or \"java\". This parameter is aliased to search.\n",
    "location — A city name, zip code, or other location search term.\n",
    "lat — A specific latitude. If used, you must also send long and must not send location.\n",
    "long — A specific longitude. If used, you must also send lat and must not send location.\n",
    "full_time — If you want to limit results to full time positions set this parameter to 'true'.\n",
    "Examples\n",
    "https://jobs.github.com/positions.json?description=python&full_time=true&location=sf\n",
    "https://jobs.github.com/positions.json?search=node\n",
    "https://jobs.github.com/positions.json?lat=37.3229978&long=-122.0321823\n",
    "\n",
    "GET /positions/ID.json\n",
    "Retrieve the JSON representation of a single job posting.\n",
    "\n",
    "Parameters\n",
    "markdown — Set to 'true' to get the description and how_to_apply fields as Markdown.\n",
    "\n",
    "Examples\n",
    "https://jobs.github.com/positions/21516.json\n",
    "https://jobs.github.com/positions/21516.json?markdown=true\n",
    "\n"
   ]
  },
  {
   "cell_type": "markdown",
   "metadata": {},
   "source": [
    "## Exploring the Data\n",
    "\n",
    "About the dataset\n",
    "Stack Overflow, a popular website for developers, conducted an online survey of software professionals across the world. The survey data was later open sourced by Stack Overflow. The actual data set has around 90,000 responses.\n",
    "\n",
    "The dataset you are going to use in this assignment comes from the following source: https://stackoverflow.blog/2019/04/09/the-2019-stack-overflow-developer-survey-results-are-in/ under a ODbL: Open Database License.\n",
    "\n",
    "You will be given a subset of the original data set in this capstone project. You will explore, analyze, and visualize this dataset and present your analysis.\n",
    "\n",
    "Note: This randomised subset contains around 1/10th of the original data set. Any conclusions you draw after analyzing this subset may not reflect the real world scenario.\n",
    "\n",
    "The below table lists the questions asked in the survey and the column under which the response was collected."
   ]
  },
  {
   "cell_type": "markdown",
   "metadata": {},
   "source": [
    "| Column Name            | Question Text                                                                                                                                                                                                                                                                                                                                  |\n",
    "|------------------------|------------------------------------------------------------------------------------------------------------------------------------------------------------------------------------------------------------------------------------------------------------------------------------------------------------------------------------------------|\n",
    "| Respondent             | Randomized respondent ID number (not in order of survey response time)                                                                                                                                                                                                                                                                         |\n",
    "| MainBranch             | Which of the following options best describes you today? Here, by \"developer\" we mean \"someone who writes code.\"                                                                                                                                                                                                                               |\n",
    "| Hobbyist               | Do you code as a hobby?                                                                                                                                                                                                                                                                                                                        |\n",
    "| OpenSourcer            | How often do you contribute to open source?                                                                                                                                                                                                                                                                                                    |\n",
    "| OpenSource             | How do you feel about the quality of open source software (OSS)?                                                                                                                                                                                                                                                                               |\n",
    "| Employment             | Which of the following best describes your current employment status?                                                                                                                                                                                                                                                                          |\n",
    "| Country                | In which country do you currently reside?                                                                                                                                                                                                                                                                                                      |\n",
    "| Student                | Are you currently enrolled in a formal, degree-granting college or university program?                                                                                                                                                                                                                                                         |\n",
    "| EdLevel                | Which of the following best describes the highest level of formal education that you've completed?                                                                                                                                                                                                                                             |\n",
    "| UndergradMajor         | What was your main or most important field of study?                                                                                                                                                                                                                                                                                           |\n",
    "| EduOther               | Which of the following types of non-degree education have you used or participated in? Please select all that apply.                                                                                                                                                                                                                           |\n",
    "| OrgSize                | Approximately how many people are employed by the company or organization you work for?                                                                                                                                                                                                                                                        |\n",
    "| DevType                | Which of the following describe you? Please select all that apply.                                                                                                                                                                                                                                                                             |\n",
    "| YearsCode              | Including any education, how many years have you been coding?                                                                                                                                                                                                                                                                                  |\n",
    "| Age1stCode             | At what age did you write your first line of code or program? (E.g., webpage, Hello World, Scratch project)                                                                                                                                                                                                                                    |\n",
    "| YearsCodePro           | How many years have you coded professionally (as a part of your work)?                                                                                                                                                                                                                                                                         |\n",
    "| CareerSat              | Overall, how satisfied are you with your career thus far?                                                                                                                                                                                                                                                                                      |\n",
    "| JobSat                 | How satisfied are you with your current job? (If you work multiple jobs, answer for the one you spend the most hours on.)                                                                                                                                                                                                                      |\n",
    "| MgrIdiot               | How confident are you that your manager knows what they're doing?                                                                                                                                                                                                                                                                              |\n",
    "| MgrMoney               | Do you believe that you need to be a manager to make more money?                                                                                                                                                                                                                                                                               |\n",
    "| MgrWant                | Do you want to become a manager yourself in the future?                                                                                                                                                                                                                                                                                        |\n",
    "| JobSeek                | Which of the following best describes your current job-seeking status?                                                                                                                                                                                                                                                                         |\n",
    "| LastHireDate           | When was the last time that you took a job with a new employer?                                                                                                                                                                                                                                                                                |\n",
    "| LastInt                | In your most recent successful job interview (resulting in a job offer), you were asked to... (check all that apply)                                                                                                                                                                                                                           |\n",
    "| FizzBuzz               | Have you ever been asked to solve FizzBuzz in an interview?                                                                                                                                                                                                                                                                                    |\n",
    "| JobFactors             | Imagine that you are deciding between two job offers with the same compensation, benefits, and location. Of the following factors, which 3 are MOST important to you?                                                                                                                                                                          |\n",
    "| ResumeUpdate           | Think back to the last time you updated your resumé, CV, or an online profile on a job site. What is the PRIMARY reason that you did so?                                                                                                                                                                                                       |\n",
    "| CurrencySymbol         | Which currency do you use day-to-day? If your answer is complicated, please pick the one you're most comfortable estimating in.                                                                                                                                                                                                                |\n",
    "| CurrencyDesc           | Which currency do you use day-to-day? If your answer is complicated, please pick the one you're most comfortable estimating in.                                                                                                                                                                                                                |\n",
    "| CompTotal              | What is your current total compensation (salary, bonuses, and perks, before taxes and deductions), in CurrencySymbol? Please enter a whole number in the box below, without any punctuation. If you are paid hourly, please estimate an equivalent weekly, monthly, or yearly salary. If you prefer not to answer, please leave the box empty. |\n",
    "| CompFreq               | Is that compensation weekly, monthly, or yearly?                                                                                                                                                                                                                                                                                               |\n",
    "| ConvertedComp          | Salary converted to annual USD salaries using the exchange rate on 2019-02-01, assuming 12 working months and 50 working weeks.                                                                                                                                                                                                                |\n",
    "| WorkWeekHrs            | On average, how many hours per week do you work?                                                                                                                                                                                                                                                                                               |\n",
    "| WorkPlan               | How structured or planned is your work?                                                                                                                                                                                                                                                                                                        |\n",
    "| WorkChallenge          | Of these options, what are your greatest challenges to productivity as a developer? Select up to 3:                                                                                                                                                                                                                                            |\n",
    "| WorkRemote             | How often do you work remotely?                                                                                                                                                                                                                                                                                                                |\n",
    "| WorkLoc                | Where would you prefer to work?                                                                                                                                                                                                                                                                                                                |\n",
    "| ImpSyn                 | For the specific work you do, and the years of experience you have, how do you rate your own level of competence?                                                                                                                                                                                                                              |\n",
    "| CodeRev                | Do you review code as part of your work?                                                                                                                                                                                                                                                                                                       |\n",
    "| CodeRevHrs             | On average, how many hours per week do you spend on code review?                                                                                                                                                                                                                                                                               |\n",
    "| UnitTests              | Does your company regularly employ unit tests in the development of their products?                                                                                                                                                                                                                                                            |\n",
    "| PurchaseHow            | How does your company make decisions about purchasing new technology (cloud, AI, IoT, databases)?                                                                                                                                                                                                                                              |\n",
    "| PurchaseWhat           | What level of influence do you, personally, have over new technology purchases at your organization?                                                                                                                                                                                                                                           |\n",
    "| LanguageWorkedWith     | Which of the following programming, scripting, and markup languages have you done extensive development work in over the past year, and which do you want to work in over the next year? (If you both worked with the language and want to continue to do so, please check both boxes in that row.)                                            |\n",
    "| LanguageDesireNextYear | Which of the following programming, scripting, and markup languages have you done extensive development work in over the past year, and which do you want to work in over the next year? (If you both worked with the language and want to continue to do so, please check both boxes in that row.)                                            |\n",
    "| DatabaseWorkedWith     | Which of the following database environments have you done extensive development work in over the past year, and which do you want to work in over the next year? (If you both worked with the database and want to continue to do so, please check both boxes in that row.)                                                                   |\n",
    "| DatabaseDesireNextYear | Which of the following database environments have you done extensive development work in over the past year, and which do you want to work in over the next year? (If you both worked with the database and want to continue to do so, please check both boxes in that row.)                                                                   |\n",
    "| PlatformWorkedWith     | Which of the following platforms have you done extensive development work for over the past year? (If you both developed for the platform and want to continue to do so, please check both boxes in that row.)                                                                                                                                 |\n",
    "| PlatformDesireNextYear | Which of the following platforms have you done extensive development work for over the past year? (If you both developed for the platform and want to continue to do so, please check both boxes in that row.)                                                                                                                                 |\n",
    "| WebFrameWorkedWith     | Which of the following web frameworks have you done extensive development work in over the past year, and which do you want to work in over the next year? (If you both worked with the framework and want to continue to do so, please check both boxes in that row.)                                                                         |\n",
    "| WebFrameDesireNextYear | Which of the following web frameworks have you done extensive development work in over the past year, and which do you want to work in over the next year? (If you both worked with the framework and want to continue to do so, please check both boxes in that row.)                                                                         |\n",
    "| MiscTechWorkedWith     | Which of the following other frameworks, libraries, and tools have you done extensive development work in over the past year, and which do you want to work in over the next year? (If you both worked with the technology and want to continue to do so, please check both boxes in that row.)                                                |\n",
    "| MiscTechDesireNextYear | Which of the following other frameworks, libraries, and tools have you done extensive development work in over the past year, and which do you want to work in over the next year? (If you both worked with the technology and want to continue to do so, please check both boxes in that row.)                                                |\n",
    "| DevEnviron             | Which development environment(s) do you use regularly? Please check all that apply.                                                                                                                                                                                                                                                            |\n",
    "| OpSys                  | What is the primary operating system in which you work?                                                                                                                                                                                                                                                                                        |\n",
    "| Containers             | How do you use containers (Docker, Open Container Initiative (OCI), etc.)?                                                                                                                                                                                                                                                                     |\n",
    "| BlockchainOrg          | How is your organization thinking about or implementing blockchain technology?                                                                                                                                                                                                                                                                 |\n",
    "| BlockchainIs           | Blockchain / cryptocurrency technology is primarily:                                                                                                                                                                                                                                                                                           |\n",
    "| BetterLife             | Do you think people born today will have a better life than their parents?                                                                                                                                                                                                                                                                     |\n",
    "| ITperson               | Are you the \"IT support person\" for your family?                                                                                                                                                                                                                                                                                               |\n",
    "| OffOn                  | Have you tried turning it off and on again?                                                                                                                                                                                                                                                                                                    |\n",
    "| SocialMedia            | What social media site do you use the most?                                                                                                                                                                                                                                                                                                    |\n",
    "| Extraversion           | Do you prefer online chat or IRL conversations?                                                                                                                                                                                                                                                                                                |\n",
    "| ScreenName             | What do you call it?                                                                                                                                                                                                                                                                                                                           |\n",
    "| SOVisit1st             | To the best of your memory, when did you first visit Stack Overflow?                                                                                                                                                                                                                                                                           |\n",
    "| SOVisitFreq            | How frequently would you say you visit Stack Overflow?                                                                                                                                                                                                                                                                                         |\n",
    "| SOVisitTo              | I visit Stack Overflow to... (check all that apply)                                                                                                                                                                                                                                                                                            |\n",
    "| SOFindAnswer           | On average, how many times a week do you find (and use) an answer on Stack Overflow?                                                                                                                                                                                                                                                           |\n",
    "| SOTimeSaved            | Think back to the last time you solved a coding problem using Stack Overflow, as well as the last time you solved a problem using a different resource. Which was faster?                                                                                                                                                                      |\n",
    "| SOHowMuchTime          | About how much time did you save? If you're not sure, please use your best estimate.                                                                                                                                                                                                                                                           |\n",
    "| SOAccount              | Do you have a Stack Overflow account?                                                                                                                                                                                                                                                                                                          |\n",
    "| SOPartFreq             | How frequently would you say you participate in Q&A on Stack Overflow? By participate we mean ask, answer, vote for, or comment on questions.                                                                                                                                                                                                  |\n",
    "| SOJobs                 | Have you ever used or visited Stack Overflow Jobs?                                                                                                                                                                                                                                                                                             |\n",
    "| EntTeams               | Have you ever used Stack Overflow for Enterprise or Stack Overflow for Teams?                                                                                                                                                                                                                                                                  |\n",
    "| SOComm                 | Do you consider yourself a member of the Stack Overflow community?                                                                                                                                                                                                                                                                             |\n",
    "| WelcomeChange          | Compared to last year, how welcome do you feel on Stack Overflow?                                                                                                                                                                                                                                                                              |\n",
    "| SONewContent           | Would you like to see any of the following on Stack Overflow? Check all that apply.                                                                                                                                                                                                                                                            |\n",
    "| Age                    | What is your age (in years)? If you prefer not to answer, you may leave this question blank.                                                                                                                                                                                                                                                   |\n",
    "| Gender                 | Which of the following do you currently identify as? Please select all that apply. If you prefer not to answer, you may leave this question blank.                                                                                                                                                                                             |\n",
    "| Trans                  | Do you identify as transgender?                                                                                                                                                                                                                                                                                                                |\n",
    "| Sexuality              | Which of the following do you currently identify as? Please select all that apply. If you prefer not to answer, you may leave this question blank.                                                                                                                                                                                             |\n",
    "| Ethnicity              | Which of the following do you identify as? Please check all that apply. If you prefer not to answer, you may leave this question blank.                                                                                                                                                                                                        |\n",
    "| Dependents             | Do you have any dependents (e.g., children, elders, or others) that you care for?                                                                                                                                                                                                                                                              |\n",
    "| SurveyLength           | How do you feel about the length of the survey this year?                                                                                                                                                                                                                                                                                      |\n",
    "| SurveyEase             | How easy or difficult was this survey to complete?                                                                                                                                                                                                                                                                                             |"
   ]
  }
 ],
 "metadata": {
  "kernelspec": {
   "display_name": "Python 3",
   "language": "python",
   "name": "python3"
  },
  "language_info": {
   "codemirror_mode": {
    "name": "ipython",
    "version": 3
   },
   "file_extension": ".py",
   "mimetype": "text/x-python",
   "name": "python",
   "nbconvert_exporter": "python",
   "pygments_lexer": "ipython3",
   "version": "3.8.5"
  }
 },
 "nbformat": 4,
 "nbformat_minor": 4
}
